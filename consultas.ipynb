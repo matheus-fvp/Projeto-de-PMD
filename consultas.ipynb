{
 "cells": [
  {
   "cell_type": "code",
   "execution_count": null,
   "metadata": {},
   "outputs": [],
   "source": [
    "from pyravendb.store import document_store\n",
    "from entities.user import User\n",
    "from pyspark.sql import SparkSession"
   ]
  },
  {
   "cell_type": "code",
   "execution_count": null,
   "metadata": {},
   "outputs": [],
   "source": [
    "spark = SparkSession\\\n",
    " .builder\\\n",
    " .appName(\"projeto-pmd-consultas\")\\\n",
    " .master(\"local[*]\")\\\n",
    " .config(\"spark.jars\", \"neo4j-connector-apache-spark_2.12-4.1.4_for_spark_3.jar\")\\\n",
    " .getOrCreate()"
   ]
  },
  {
   "cell_type": "code",
   "execution_count": null,
   "metadata": {},
   "outputs": [],
   "source": [
    "with document_store.DocumentStore(\n",
    "    urls=['http://localhost:8080'],\n",
    "    database=\"Projeto-PMD\"\n",
    ") as store:\n",
    "    store.initialize()"
   ]
  },
  {
   "cell_type": "markdown",
   "metadata": {},
   "source": [
    "***Recupera um conjunto de usuário que possuem  id na lista fornecida como parametro***"
   ]
  },
  {
   "cell_type": "code",
   "execution_count": null,
   "metadata": {},
   "outputs": [],
   "source": [
    "def get_users(list_ids):\n",
    "    with store.open_session() as session:\n",
    "        query_result = list(\n",
    "            session.query(object_type=User).where_in(\"id()\", list_ids).select(\"nome\", \"telefone\", \"email\", \"anuncios_feitos\")\n",
    "        )\n",
    "        return query_result"
   ]
  },
  {
   "cell_type": "markdown",
   "metadata": {},
   "source": [
    "**Recupera um usuário pelo nome**"
   ]
  },
  {
   "cell_type": "code",
   "execution_count": null,
   "metadata": {},
   "outputs": [],
   "source": [
    "def recupera_usuario(nome):\n",
    "    with store.open_session() as session:\n",
    "        return list(session.query(object_type=User).where_equals(\"nome\", nome))"
   ]
  },
  {
   "cell_type": "markdown",
   "metadata": {},
   "source": [
    "**Cria um Dataframe com os dados do Neo4J obtidos a partir da query anterior**"
   ]
  },
  {
   "cell_type": "code",
   "execution_count": null,
   "metadata": {},
   "outputs": [],
   "source": [
    "def neo4_query(query):\n",
    "    return (spark.read.format(\"org.neo4j.spark.DataSource\")\n",
    "            .option(\"url\", \"bolt://localhost:11003\")\n",
    "            .option(\"authentication.basic.username\", \"neo4j\")\n",
    "            .option(\"authentication.basic.password\", \"1234\")\n",
    "            .option(\"query\", query)\n",
    "            .load())"
   ]
  },
  {
   "cell_type": "markdown",
   "metadata": {},
   "source": [
    "## **Consultas**"
   ]
  },
  {
   "cell_type": "markdown",
   "metadata": {},
   "source": [
    "###  **Consulta 1: Consultar o histórico de anúncios dos amigos de um usuário** "
   ]
  },
  {
   "cell_type": "code",
   "execution_count": null,
   "metadata": {},
   "outputs": [],
   "source": [
    "user_name = 'Béla Tardos'\n",
    "u = recupera_usuario(user_name)[0]\n",
    "for a in u.anuncios_recebidos:\n",
    "    print(\"Vendedor:\", a[1])\n",
    "    print(\"Anuncios:\")\n",
    "    print(a[2])\n",
    "    print(\"==================================================================================================================================\")"
   ]
  },
  {
   "cell_type": "markdown",
   "metadata": {},
   "source": [
    "### **Consultar os anúncios que os amigos dos meus amigos estão anunciando** "
   ]
  },
  {
   "cell_type": "markdown",
   "metadata": {},
   "source": [
    "**Uma query para ser utilizada no Neo4J**"
   ]
  },
  {
   "cell_type": "code",
   "execution_count": null,
   "metadata": {},
   "outputs": [],
   "source": [
    "query_string = \"Match (u:User{nome:\\\"Béla Tardos\\\"})-[f:FOLLOW*1..2]-(v:User) return distinct v.id\""
   ]
  },
  {
   "cell_type": "code",
   "execution_count": null,
   "metadata": {},
   "outputs": [],
   "source": [
    "df_amigos = neo4_query(query_string)"
   ]
  },
  {
   "cell_type": "code",
   "execution_count": null,
   "metadata": {},
   "outputs": [],
   "source": [
    "df_amigos.show()"
   ]
  },
  {
   "cell_type": "code",
   "execution_count": null,
   "metadata": {},
   "outputs": [],
   "source": [
    "list_r = df_amigos.rdd.map(lambda x: x[0]).collect()"
   ]
  },
  {
   "cell_type": "code",
   "execution_count": null,
   "metadata": {},
   "outputs": [],
   "source": [
    "users_result = get_users(list_r)"
   ]
  },
  {
   "cell_type": "code",
   "execution_count": null,
   "metadata": {},
   "outputs": [],
   "source": [
    "len(users_result)"
   ]
  },
  {
   "cell_type": "code",
   "execution_count": null,
   "metadata": {},
   "outputs": [],
   "source": [
    "for a in users_result:\n",
    "    print(\"Vendedor: \", a.nome)\n",
    "    print(\"Telefone: \", a.telefone)\n",
    "    print(\"Email\", a.email)\n",
    "    print(\"Anuncios-Feitos:\", a.anuncios_feitos)\n",
    "    print(\"===================================================================================================================================================================\")"
   ]
  },
  {
   "cell_type": "code",
   "execution_count": null,
   "metadata": {},
   "outputs": [],
   "source": []
  }
 ],
 "metadata": {
  "kernelspec": {
   "display_name": "Python 3.9.13 64-bit",
   "language": "python",
   "name": "python3"
  },
  "language_info": {
   "codemirror_mode": {
    "name": "ipython",
    "version": 3
   },
   "file_extension": ".py",
   "mimetype": "text/x-python",
   "name": "python",
   "nbconvert_exporter": "python",
   "pygments_lexer": "ipython3",
   "version": "3.9.13"
  },
  "orig_nbformat": 4,
  "vscode": {
   "interpreter": {
    "hash": "aabdcabb1ce183cf2e0b393220d39e588eba15c9156edfaebeefbd82b848687e"
   }
  }
 },
 "nbformat": 4,
 "nbformat_minor": 2
}
