{
 "cells": [
  {
   "cell_type": "code",
   "execution_count": null,
   "metadata": {},
   "outputs": [],
   "source": [
    "from pyspark.sql import SparkSession\n",
    "from pyspark.sql.functions import *\n",
    "from pyravendb.store import document_store"
   ]
  },
  {
   "cell_type": "code",
   "execution_count": null,
   "metadata": {},
   "outputs": [],
   "source": [
    "from random import randrange, uniform, randint\n",
    "import random"
   ]
  },
  {
   "cell_type": "markdown",
   "metadata": {},
   "source": [
    "### **Inicializa o Pyspark**"
   ]
  },
  {
   "cell_type": "code",
   "execution_count": null,
   "metadata": {},
   "outputs": [],
   "source": [
    "spark = SparkSession\\\n",
    " .builder\\\n",
    " .appName(\"projeto-pmd\")\\\n",
    " .master(\"local[*]\")\\\n",
    " .config(\"spark.jars\", \"neo4j-connector-apache-spark_2.12-4.1.4_for_spark_3.jar\")\\\n",
    " .getOrCreate()"
   ]
  },
  {
   "cell_type": "markdown",
   "metadata": {},
   "source": [
    "### **Manipulação dos dados do dataset de pessoas para criar os usuários**"
   ]
  },
  {
   "cell_type": "code",
   "execution_count": null,
   "metadata": {},
   "outputs": [],
   "source": [
    "usersDF = spark.read.csv(\"./datasets/users.csv\", header=True, sep=',')"
   ]
  },
  {
   "cell_type": "code",
   "execution_count": null,
   "metadata": {},
   "outputs": [],
   "source": [
    "usersDF.show()"
   ]
  },
  {
   "cell_type": "code",
   "execution_count": null,
   "metadata": {},
   "outputs": [],
   "source": [
    "usersDF = usersDF.select(\"Id\", \"Name\").withColumnRenamed('Id', 'id').withColumnRenamed('Name', 'nome')"
   ]
  },
  {
   "cell_type": "markdown",
   "metadata": {},
   "source": [
    "**remove duplicatas**"
   ]
  },
  {
   "cell_type": "code",
   "execution_count": null,
   "metadata": {},
   "outputs": [],
   "source": [
    "usersDF = usersDF.dropDuplicates(subset=['id', 'nome'])"
   ]
  },
  {
   "cell_type": "code",
   "execution_count": null,
   "metadata": {},
   "outputs": [],
   "source": [
    "usersDF.show()\n",
    "usersDF.count()"
   ]
  },
  {
   "cell_type": "markdown",
   "metadata": {},
   "source": [
    "**remove dados que possuem o nomes escritos em chinês, arabe, etc**"
   ]
  },
  {
   "cell_type": "code",
   "execution_count": null,
   "metadata": {},
   "outputs": [],
   "source": [
    "usersDF = usersDF.select(\"id\", \"nome\").where(col(\"nome\").rlike(\"^[a-zA-Z]+\")).orderBy(col('id'))"
   ]
  },
  {
   "cell_type": "code",
   "execution_count": null,
   "metadata": {},
   "outputs": [],
   "source": [
    "usersDF.show()\n",
    "usersDF.count()"
   ]
  },
  {
   "cell_type": "markdown",
   "metadata": {},
   "source": [
    "**seleciona uma parte dos dados para armazenar na base de dados Neo4J**"
   ]
  },
  {
   "cell_type": "code",
   "execution_count": null,
   "metadata": {},
   "outputs": [],
   "source": [
    "usersDF_sample = usersDF.limit(2000)"
   ]
  },
  {
   "cell_type": "code",
   "execution_count": null,
   "metadata": {},
   "outputs": [],
   "source": [
    "usersDF_sample.show()"
   ]
  },
  {
   "cell_type": "markdown",
   "metadata": {},
   "source": [
    " **Aqui é so para armazenar uma amostra especifica dos dados**"
   ]
  },
  {
   "cell_type": "code",
   "execution_count": null,
   "metadata": {},
   "outputs": [],
   "source": [
    "#usersDF_sample.write.csv(\"./datasets/users_sample\", header=True, sep=',')\n",
    "#usersDF_sample = spark.read.csv(\"datasets/user_sample.csv\", sep=\",\")"
   ]
  },
  {
   "cell_type": "markdown",
   "metadata": {},
   "source": [
    "**armazena os nos que representam os usuários no Neo4J**"
   ]
  },
  {
   "cell_type": "code",
   "execution_count": null,
   "metadata": {},
   "outputs": [],
   "source": [
    "(usersDF_sample.write\n",
    " .format(\"org.neo4j.spark.DataSource\")\n",
    " .mode(\"Overwrite\")\n",
    " .option(\"url\", \"bolt://localhost:11003\")\n",
    " .option(\"authentication.basic.username\", \"neo4j\")\n",
    " .option(\"authentication.basic.password\", \"1234\")\n",
    " .option(\"labels\", \":User\")\n",
    " .option(\"node.keys\", \"id\")\n",
    " .option(\"schema.optimization.type\", \"INDEX\")\n",
    " .save())"
   ]
  },
  {
   "cell_type": "markdown",
   "metadata": {},
   "source": [
    "### **criação de forma randomica da lista de amizades**"
   ]
  },
  {
   "cell_type": "markdown",
   "metadata": {},
   "source": [
    "**cria uma lista com os ids dos usuários**"
   ]
  },
  {
   "cell_type": "code",
   "execution_count": null,
   "metadata": {},
   "outputs": [],
   "source": [
    "list_ids = []\n",
    "for i in usersDF_sample.collect():\n",
    "    list_ids.append(i.id)"
   ]
  },
  {
   "cell_type": "markdown",
   "metadata": {},
   "source": [
    "**controi uma lista com ids randomicos para cada usuário**"
   ]
  },
  {
   "cell_type": "code",
   "execution_count": null,
   "metadata": {},
   "outputs": [],
   "source": [
    "usersRDD = usersDF_sample.rdd.map(lambda x: (x.id, random.sample(list_ids, randint(3, 50))))"
   ]
  },
  {
   "cell_type": "code",
   "execution_count": null,
   "metadata": {},
   "outputs": [],
   "source": [
    "friendsDF = usersRDD.toDF([\"id\", \"amigos\"])"
   ]
  },
  {
   "cell_type": "code",
   "execution_count": null,
   "metadata": {},
   "outputs": [],
   "source": [
    "friendsDF.show()"
   ]
  },
  {
   "cell_type": "markdown",
   "metadata": {},
   "source": [
    "**constroi um novo dataframe transformando os elemntos da lista de amigos de cada usuário em uma linha** "
   ]
  },
  {
   "cell_type": "code",
   "execution_count": null,
   "metadata": {},
   "outputs": [],
   "source": [
    "friendsDF = friendsDF.select(\"id\", explode(\"amigos\").alias(\"amigo\"))"
   ]
  },
  {
   "cell_type": "code",
   "execution_count": null,
   "metadata": {},
   "outputs": [],
   "source": [
    "friendsDF.show()"
   ]
  },
  {
   "cell_type": "code",
   "execution_count": null,
   "metadata": {},
   "outputs": [],
   "source": [
    "friendsDF = friendsDF.where(friendsDF.id != friendsDF.amigo)"
   ]
  },
  {
   "cell_type": "code",
   "execution_count": null,
   "metadata": {},
   "outputs": [],
   "source": [
    "friendsDF = friendsDF.withColumnRenamed(\"id\", \"source.id\").withColumnRenamed(\"amigo\", \"target.id\")"
   ]
  },
  {
   "cell_type": "code",
   "execution_count": null,
   "metadata": {},
   "outputs": [],
   "source": [
    "friendsDF.show()\n",
    "friendsDF.count()"
   ]
  },
  {
   "cell_type": "markdown",
   "metadata": {},
   "source": [
    "**Construção da rede de amizades no Neo4J**"
   ]
  },
  {
   "cell_type": "code",
   "execution_count": null,
   "metadata": {},
   "outputs": [],
   "source": [
    "(friendsDF.write\n",
    "    .format(\"org.neo4j.spark.DataSource\")\n",
    "    .mode(\"overwrite\")\n",
    "    .option(\"url\", \"bolt://localhost:11003\")\n",
    "    .option(\"authentication.basic.username\", \"neo4j\")\n",
    "    .option(\"authentication.basic.password\", \"1234\")\n",
    "    .option(\"relationship\", \"FOLLOW\")\n",
    "    .option(\"relationship.source.labels\", \":User\")\n",
    "    .option(\"relationship.source.save.mode\", \"Overwrite\")\n",
    "    .option(\"relationship.source.node.keys\", \"source.id:id\")\n",
    "    .option(\"relationship.target.labels\", \":User\")\n",
    "    .option(\"relationship.target.save.mode\", \"Overwrite\")\n",
    "    .option(\"relationship.target.node.keys\", \"target.id:id\")\n",
    "    .save()\n",
    " )"
   ]
  },
  {
   "cell_type": "markdown",
   "metadata": {},
   "source": [
    "### **Adaptação dos dados para o RAVEN**"
   ]
  },
  {
   "cell_type": "code",
   "execution_count": null,
   "metadata": {},
   "outputs": [],
   "source": [
    "friendsDF = friendsDF.withColumnRenamed(\"source.id\", \"id\").withColumnRenamed(\"target.id\", \"amigo\")"
   ]
  },
  {
   "cell_type": "code",
   "execution_count": null,
   "metadata": {},
   "outputs": [],
   "source": [
    "friendsDF.show()"
   ]
  },
  {
   "cell_type": "code",
   "execution_count": null,
   "metadata": {},
   "outputs": [],
   "source": [
    "friendsDF = friendsDF.groupBy(\"id\").agg(collect_list(friendsDF.amigo))"
   ]
  },
  {
   "cell_type": "code",
   "execution_count": null,
   "metadata": {},
   "outputs": [],
   "source": [
    "friendsDF = friendsDF.withColumnRenamed(\"collect_list(amigo)\", \"amigos\")"
   ]
  },
  {
   "cell_type": "code",
   "execution_count": null,
   "metadata": {},
   "outputs": [],
   "source": [
    "friendsDF.show()"
   ]
  },
  {
   "cell_type": "markdown",
   "metadata": {},
   "source": [
    "### **Leitura do dataset de livros**"
   ]
  },
  {
   "cell_type": "code",
   "execution_count": null,
   "metadata": {},
   "outputs": [],
   "source": [
    "booksDF = spark.read.csv(\"./datasets/books.csv\", sep=\";\", header=True)"
   ]
  },
  {
   "cell_type": "code",
   "execution_count": null,
   "metadata": {},
   "outputs": [],
   "source": [
    "booksDF.count()"
   ]
  },
  {
   "cell_type": "code",
   "execution_count": null,
   "metadata": {},
   "outputs": [],
   "source": [
    "booksDF.show()"
   ]
  },
  {
   "cell_type": "code",
   "execution_count": null,
   "metadata": {},
   "outputs": [],
   "source": [
    "booksDF = booksDF.na.drop(subset=[\"Book-Title\", \"Book-Author\", \"Year-Of-Publication\", \"Publisher\"])"
   ]
  },
  {
   "cell_type": "code",
   "execution_count": null,
   "metadata": {},
   "outputs": [],
   "source": [
    "booksDF.count()"
   ]
  },
  {
   "cell_type": "code",
   "execution_count": null,
   "metadata": {},
   "outputs": [],
   "source": [
    "booksDF = booksDF.select([\"Book-Title\", \"Book-Author\", \"Year-Of-Publication\", \"Publisher\"])"
   ]
  },
  {
   "cell_type": "code",
   "execution_count": null,
   "metadata": {},
   "outputs": [],
   "source": [
    "booksDF.show()"
   ]
  },
  {
   "cell_type": "code",
   "execution_count": null,
   "metadata": {},
   "outputs": [],
   "source": [
    "booksDF_sample = booksDF.limit(10000)"
   ]
  },
  {
   "cell_type": "code",
   "execution_count": null,
   "metadata": {},
   "outputs": [],
   "source": [
    "booksDF_sample.count()"
   ]
  },
  {
   "cell_type": "markdown",
   "metadata": {},
   "source": [
    "### **Criação das estruturas dos anuncios**"
   ]
  },
  {
   "cell_type": "code",
   "execution_count": null,
   "metadata": {},
   "outputs": [],
   "source": [
    "anuncios = booksDF_sample.withColumn(\"anuncios\", \n",
    "                    create_map(lit(\"Titulo\"), col('Book-Title'),\n",
    "                           lit(\"Autor\"), col(\"Book-Author\"), \n",
    "                           lit(\"Ano-Publicacao\"), col(\"Year-Of-Publication\"),\n",
    "                           lit(\"Editora\"), col(\"Publisher\"))).drop('Book-Title', 'Book-Author', 'Year-Of-Publication', 'Publisher').withColumns({\"valor\": expr(\"round(rand() * 1000, 2)\")})"
   ]
  },
  {
   "cell_type": "code",
   "execution_count": null,
   "metadata": {},
   "outputs": [],
   "source": [
    "anuncios.show()"
   ]
  },
  {
   "cell_type": "code",
   "execution_count": null,
   "metadata": {},
   "outputs": [],
   "source": [
    "list_ad = []\n",
    "for an in anuncios.collect():\n",
    "    list_ad.append({\"Data\": str(randint(2020, 2022)) + \"-\" + str(randint(1, 12)).zfill(2) + \"-\" + str(randint(1, 28)).zfill(2), \"livro_descricao\": an.anuncios, \"preco\": an.valor})"
   ]
  },
  {
   "cell_type": "markdown",
   "metadata": {},
   "source": [
    "**Adiciona dados (telefone, email, lista de anuncios) aos usuários**"
   ]
  },
  {
   "cell_type": "code",
   "execution_count": null,
   "metadata": {},
   "outputs": [],
   "source": [
    "usersRDD = usersDF_sample.rdd.map(lambda x: (x.id, x.nome, \"(\" + str(randint(10, 99)) + \")\" + str(randint(1000, 9999)) + \"-\" + str(randint(1000, 9999)), x.id + \"@gmail.com\", random.sample(list_ad, randint(3, 20))))"
   ]
  },
  {
   "cell_type": "code",
   "execution_count": null,
   "metadata": {},
   "outputs": [],
   "source": [
    "usersRDD.top(5)"
   ]
  },
  {
   "cell_type": "code",
   "execution_count": null,
   "metadata": {},
   "outputs": [],
   "source": [
    "usersRaven = usersRDD.toDF([\"id\", \"nome\", \"telefone\", \"email\", \"anuncios_feitos\"])"
   ]
  },
  {
   "cell_type": "code",
   "execution_count": null,
   "metadata": {},
   "outputs": [],
   "source": [
    "usersRaven.show()"
   ]
  },
  {
   "cell_type": "code",
   "execution_count": null,
   "metadata": {},
   "outputs": [],
   "source": [
    "users_friends = usersRaven.join(friendsDF, usersRaven.id == friendsDF.id).select(usersRaven.id, \"nome\", \"amigos\", \"anuncios_feitos\")"
   ]
  },
  {
   "cell_type": "code",
   "execution_count": null,
   "metadata": {},
   "outputs": [],
   "source": [
    "users_friends.show()"
   ]
  },
  {
   "cell_type": "code",
   "execution_count": null,
   "metadata": {},
   "outputs": [],
   "source": [
    "df2 = users_friends.withColumn(\"anuncios_recebidos\", struct(col(\"id\").alias(\"vendedor_id\"), col(\"nome\").alias(\"vendedor_nome\"), col(\"anuncios_feitos\").alias(\"anuncios\"))).drop(\"nome\", \"anuncios_feitos\")"
   ]
  },
  {
   "cell_type": "code",
   "execution_count": null,
   "metadata": {},
   "outputs": [],
   "source": [
    "df2.show()"
   ]
  },
  {
   "cell_type": "code",
   "execution_count": null,
   "metadata": {},
   "outputs": [],
   "source": [
    "adRecebidos = df2.select(explode(\"amigos\").alias(\"amigo\"), \"anuncios_recebidos\")"
   ]
  },
  {
   "cell_type": "code",
   "execution_count": null,
   "metadata": {},
   "outputs": [],
   "source": [
    "adRecebidos.show()"
   ]
  },
  {
   "cell_type": "code",
   "execution_count": null,
   "metadata": {},
   "outputs": [],
   "source": [
    "adRecebidos = adRecebidos.groupBy(\"amigo\").agg(collect_list(\"anuncios_recebidos\")).withColumnRenamed(\"amigo\", \"id\")"
   ]
  },
  {
   "cell_type": "code",
   "execution_count": null,
   "metadata": {},
   "outputs": [],
   "source": [
    "adRecebidos = adRecebidos.withColumnRenamed(\"collect_list(anuncios_recebidos)\", \"anuncios_recebidos\")"
   ]
  },
  {
   "cell_type": "code",
   "execution_count": null,
   "metadata": {},
   "outputs": [],
   "source": [
    "adRecebidos.show()"
   ]
  },
  {
   "cell_type": "code",
   "execution_count": null,
   "metadata": {},
   "outputs": [],
   "source": [
    "users = usersRaven.join(adRecebidos, usersRaven.id == adRecebidos.id).drop(adRecebidos.id)"
   ]
  },
  {
   "cell_type": "code",
   "execution_count": null,
   "metadata": {},
   "outputs": [],
   "source": [
    "users.show()"
   ]
  },
  {
   "cell_type": "code",
   "execution_count": null,
   "metadata": {},
   "outputs": [],
   "source": [
    "users.show()"
   ]
  },
  {
   "cell_type": "markdown",
   "metadata": {},
   "source": [
    "### **Classes Usuário para armazenar os usuários no Raven**"
   ]
  },
  {
   "cell_type": "code",
   "execution_count": null,
   "metadata": {},
   "outputs": [],
   "source": [
    "class User: \n",
    "    \n",
    "    def __init__(self, id, nome, telefone, email, anuncios_feitos=None, anuncios_recebidos=None):\n",
    "        self.Id = id\n",
    "        self.nome = nome\n",
    "        self.telefone = telefone\n",
    "        self.email = email\n",
    "        self.anuncios_feitos = anuncios_feitos\n",
    "        self.anuncios_recebidos = anuncios_recebidos\n",
    "    \n",
    "    def anunciar(self, book_ad):\n",
    "        if book_ad is not None:\n",
    "            self.meus_anuncios.append(book_ad);\n",
    "    \n",
    "    def receber_anuncio(self, book_ad):\n",
    "        if book_ad is not None:\n",
    "            self.amigos_anuncios.append(book_ad)"
   ]
  },
  {
   "cell_type": "code",
   "execution_count": null,
   "metadata": {},
   "outputs": [],
   "source": [
    "users.rdd.top(5)"
   ]
  },
  {
   "cell_type": "code",
   "execution_count": null,
   "metadata": {},
   "outputs": [],
   "source": [
    "users.show()"
   ]
  },
  {
   "cell_type": "code",
   "execution_count": null,
   "metadata": {},
   "outputs": [],
   "source": [
    "user_list = []\n",
    "for i in users.rdd.collect():\n",
    "    u = User(i.id, i.nome, i.telefone, i.email, i.anuncios_feitos, i.anuncios_recebidos)\n",
    "    user_list.append(u)"
   ]
  },
  {
   "cell_type": "markdown",
   "metadata": {},
   "source": [
    "**Conexão com o Raven**"
   ]
  },
  {
   "cell_type": "code",
   "execution_count": null,
   "metadata": {},
   "outputs": [],
   "source": [
    "with document_store.DocumentStore(\n",
    "    urls=['http://localhost:8080'],\n",
    "    database=\"Projeto-PMD\"\n",
    ") as store:\n",
    "    store.initialize()"
   ]
  },
  {
   "cell_type": "markdown",
   "metadata": {},
   "source": [
    "**Armazena usuários no RavenDb**"
   ]
  },
  {
   "cell_type": "code",
   "execution_count": null,
   "metadata": {},
   "outputs": [],
   "source": [
    "def adicona_usuarios(list_user):\n",
    "    with store.open_session() as session1:\n",
    "        for u in list_user:\n",
    "            session1.store(u)\n",
    "        session1.save_changes()"
   ]
  },
  {
   "cell_type": "code",
   "execution_count": null,
   "metadata": {},
   "outputs": [],
   "source": [
    "adicona_usuarios(user_list)"
   ]
  }
 ],
 "metadata": {
  "kernelspec": {
   "display_name": "Python 3.9.13 64-bit",
   "language": "python",
   "name": "python3"
  },
  "language_info": {
   "codemirror_mode": {
    "name": "ipython",
    "version": 3
   },
   "file_extension": ".py",
   "mimetype": "text/x-python",
   "name": "python",
   "nbconvert_exporter": "python",
   "pygments_lexer": "ipython3",
   "version": "3.9.13"
  },
  "orig_nbformat": 4,
  "vscode": {
   "interpreter": {
    "hash": "aabdcabb1ce183cf2e0b393220d39e588eba15c9156edfaebeefbd82b848687e"
   }
  }
 },
 "nbformat": 4,
 "nbformat_minor": 2
}
